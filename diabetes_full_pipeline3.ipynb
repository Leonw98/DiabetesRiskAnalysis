{
 "cells": [
  {
   "cell_type": "code",
   "execution_count": 44,
   "id": "3700daf6",
   "metadata": {},
   "outputs": [],
   "source": [
    "# ===============================\n",
    "# Diabetes Risk/Protective Factor Analysis - Jupyter Notebook\n",
    "# Portfolio-Ready Version\n",
    "# ===============================\n",
    "\n",
    "# ===============================\n",
    "# Cell 1: Import Libraries\n",
    "# ===============================\n",
    "import os\n",
    "import pandas as pd\n",
    "import numpy as np\n",
    "import matplotlib.pyplot as plt\n",
    "import seaborn as sns\n",
    "from sklearn.preprocessing import StandardScaler\n",
    "\n",
    "sns.set(style=\"whitegrid\")\n"
   ]
  },
  {
   "cell_type": "markdown",
   "id": "21dac8ec",
   "metadata": {},
   "source": [
    "# Diabetes Risk Analysis\n",
    "\n",
    "This project analyzes the BRFSS 2015 dataset to identify **risk and protective factors for diabetes**, compute a **RiskScore** for each individual, and highlight the **most at-risk individuals**. The analysis also explores **income groups** and their relationship to diabetes risk.\n"
   ]
  },
  {
   "cell_type": "code",
   "execution_count": 45,
   "id": "aae8f100",
   "metadata": {},
   "outputs": [
    {
     "name": "stdout",
     "output_type": "stream",
     "text": [
      "Dataset loaded: (253680, 22) rows, 22 columns\n"
     ]
    },
    {
     "data": {
      "application/vnd.microsoft.datawrangler.viewer.v0+json": {
       "columns": [
        {
         "name": "index",
         "rawType": "int64",
         "type": "integer"
        },
        {
         "name": "Diabetes_012",
         "rawType": "float64",
         "type": "float"
        },
        {
         "name": "HighBP",
         "rawType": "float64",
         "type": "float"
        },
        {
         "name": "HighChol",
         "rawType": "float64",
         "type": "float"
        },
        {
         "name": "CholCheck",
         "rawType": "float64",
         "type": "float"
        },
        {
         "name": "BMI",
         "rawType": "float64",
         "type": "float"
        },
        {
         "name": "Smoker",
         "rawType": "float64",
         "type": "float"
        },
        {
         "name": "Stroke",
         "rawType": "float64",
         "type": "float"
        },
        {
         "name": "HeartDiseaseorAttack",
         "rawType": "float64",
         "type": "float"
        },
        {
         "name": "PhysActivity",
         "rawType": "float64",
         "type": "float"
        },
        {
         "name": "Fruits",
         "rawType": "float64",
         "type": "float"
        },
        {
         "name": "Veggies",
         "rawType": "float64",
         "type": "float"
        },
        {
         "name": "HvyAlcoholConsump",
         "rawType": "float64",
         "type": "float"
        },
        {
         "name": "AnyHealthcare",
         "rawType": "float64",
         "type": "float"
        },
        {
         "name": "NoDocbcCost",
         "rawType": "float64",
         "type": "float"
        },
        {
         "name": "GenHlth",
         "rawType": "float64",
         "type": "float"
        },
        {
         "name": "MentHlth",
         "rawType": "float64",
         "type": "float"
        },
        {
         "name": "PhysHlth",
         "rawType": "float64",
         "type": "float"
        },
        {
         "name": "DiffWalk",
         "rawType": "float64",
         "type": "float"
        },
        {
         "name": "Sex",
         "rawType": "float64",
         "type": "float"
        },
        {
         "name": "Age",
         "rawType": "float64",
         "type": "float"
        },
        {
         "name": "Education",
         "rawType": "float64",
         "type": "float"
        },
        {
         "name": "Income",
         "rawType": "float64",
         "type": "float"
        }
       ],
       "ref": "df5f368d-7e03-4d35-8abb-4d3954519ed1",
       "rows": [
        [
         "0",
         "0.0",
         "1.0",
         "1.0",
         "1.0",
         "40.0",
         "1.0",
         "0.0",
         "0.0",
         "0.0",
         "0.0",
         "1.0",
         "0.0",
         "1.0",
         "0.0",
         "5.0",
         "18.0",
         "15.0",
         "1.0",
         "0.0",
         "9.0",
         "4.0",
         "3.0"
        ],
        [
         "1",
         "0.0",
         "0.0",
         "0.0",
         "0.0",
         "25.0",
         "1.0",
         "0.0",
         "0.0",
         "1.0",
         "0.0",
         "0.0",
         "0.0",
         "0.0",
         "1.0",
         "3.0",
         "0.0",
         "0.0",
         "0.0",
         "0.0",
         "7.0",
         "6.0",
         "1.0"
        ],
        [
         "2",
         "0.0",
         "1.0",
         "1.0",
         "1.0",
         "28.0",
         "0.0",
         "0.0",
         "0.0",
         "0.0",
         "1.0",
         "0.0",
         "0.0",
         "1.0",
         "1.0",
         "5.0",
         "30.0",
         "30.0",
         "1.0",
         "0.0",
         "9.0",
         "4.0",
         "8.0"
        ],
        [
         "3",
         "0.0",
         "1.0",
         "0.0",
         "1.0",
         "27.0",
         "0.0",
         "0.0",
         "0.0",
         "1.0",
         "1.0",
         "1.0",
         "0.0",
         "1.0",
         "0.0",
         "2.0",
         "0.0",
         "0.0",
         "0.0",
         "0.0",
         "11.0",
         "3.0",
         "6.0"
        ],
        [
         "4",
         "0.0",
         "1.0",
         "1.0",
         "1.0",
         "24.0",
         "0.0",
         "0.0",
         "0.0",
         "1.0",
         "1.0",
         "1.0",
         "0.0",
         "1.0",
         "0.0",
         "2.0",
         "3.0",
         "0.0",
         "0.0",
         "0.0",
         "11.0",
         "5.0",
         "4.0"
        ]
       ],
       "shape": {
        "columns": 22,
        "rows": 5
       }
      },
      "text/html": [
       "<div>\n",
       "<style scoped>\n",
       "    .dataframe tbody tr th:only-of-type {\n",
       "        vertical-align: middle;\n",
       "    }\n",
       "\n",
       "    .dataframe tbody tr th {\n",
       "        vertical-align: top;\n",
       "    }\n",
       "\n",
       "    .dataframe thead th {\n",
       "        text-align: right;\n",
       "    }\n",
       "</style>\n",
       "<table border=\"1\" class=\"dataframe\">\n",
       "  <thead>\n",
       "    <tr style=\"text-align: right;\">\n",
       "      <th></th>\n",
       "      <th>Diabetes_012</th>\n",
       "      <th>HighBP</th>\n",
       "      <th>HighChol</th>\n",
       "      <th>CholCheck</th>\n",
       "      <th>BMI</th>\n",
       "      <th>Smoker</th>\n",
       "      <th>Stroke</th>\n",
       "      <th>HeartDiseaseorAttack</th>\n",
       "      <th>PhysActivity</th>\n",
       "      <th>Fruits</th>\n",
       "      <th>...</th>\n",
       "      <th>AnyHealthcare</th>\n",
       "      <th>NoDocbcCost</th>\n",
       "      <th>GenHlth</th>\n",
       "      <th>MentHlth</th>\n",
       "      <th>PhysHlth</th>\n",
       "      <th>DiffWalk</th>\n",
       "      <th>Sex</th>\n",
       "      <th>Age</th>\n",
       "      <th>Education</th>\n",
       "      <th>Income</th>\n",
       "    </tr>\n",
       "  </thead>\n",
       "  <tbody>\n",
       "    <tr>\n",
       "      <th>0</th>\n",
       "      <td>0.0</td>\n",
       "      <td>1.0</td>\n",
       "      <td>1.0</td>\n",
       "      <td>1.0</td>\n",
       "      <td>40.0</td>\n",
       "      <td>1.0</td>\n",
       "      <td>0.0</td>\n",
       "      <td>0.0</td>\n",
       "      <td>0.0</td>\n",
       "      <td>0.0</td>\n",
       "      <td>...</td>\n",
       "      <td>1.0</td>\n",
       "      <td>0.0</td>\n",
       "      <td>5.0</td>\n",
       "      <td>18.0</td>\n",
       "      <td>15.0</td>\n",
       "      <td>1.0</td>\n",
       "      <td>0.0</td>\n",
       "      <td>9.0</td>\n",
       "      <td>4.0</td>\n",
       "      <td>3.0</td>\n",
       "    </tr>\n",
       "    <tr>\n",
       "      <th>1</th>\n",
       "      <td>0.0</td>\n",
       "      <td>0.0</td>\n",
       "      <td>0.0</td>\n",
       "      <td>0.0</td>\n",
       "      <td>25.0</td>\n",
       "      <td>1.0</td>\n",
       "      <td>0.0</td>\n",
       "      <td>0.0</td>\n",
       "      <td>1.0</td>\n",
       "      <td>0.0</td>\n",
       "      <td>...</td>\n",
       "      <td>0.0</td>\n",
       "      <td>1.0</td>\n",
       "      <td>3.0</td>\n",
       "      <td>0.0</td>\n",
       "      <td>0.0</td>\n",
       "      <td>0.0</td>\n",
       "      <td>0.0</td>\n",
       "      <td>7.0</td>\n",
       "      <td>6.0</td>\n",
       "      <td>1.0</td>\n",
       "    </tr>\n",
       "    <tr>\n",
       "      <th>2</th>\n",
       "      <td>0.0</td>\n",
       "      <td>1.0</td>\n",
       "      <td>1.0</td>\n",
       "      <td>1.0</td>\n",
       "      <td>28.0</td>\n",
       "      <td>0.0</td>\n",
       "      <td>0.0</td>\n",
       "      <td>0.0</td>\n",
       "      <td>0.0</td>\n",
       "      <td>1.0</td>\n",
       "      <td>...</td>\n",
       "      <td>1.0</td>\n",
       "      <td>1.0</td>\n",
       "      <td>5.0</td>\n",
       "      <td>30.0</td>\n",
       "      <td>30.0</td>\n",
       "      <td>1.0</td>\n",
       "      <td>0.0</td>\n",
       "      <td>9.0</td>\n",
       "      <td>4.0</td>\n",
       "      <td>8.0</td>\n",
       "    </tr>\n",
       "    <tr>\n",
       "      <th>3</th>\n",
       "      <td>0.0</td>\n",
       "      <td>1.0</td>\n",
       "      <td>0.0</td>\n",
       "      <td>1.0</td>\n",
       "      <td>27.0</td>\n",
       "      <td>0.0</td>\n",
       "      <td>0.0</td>\n",
       "      <td>0.0</td>\n",
       "      <td>1.0</td>\n",
       "      <td>1.0</td>\n",
       "      <td>...</td>\n",
       "      <td>1.0</td>\n",
       "      <td>0.0</td>\n",
       "      <td>2.0</td>\n",
       "      <td>0.0</td>\n",
       "      <td>0.0</td>\n",
       "      <td>0.0</td>\n",
       "      <td>0.0</td>\n",
       "      <td>11.0</td>\n",
       "      <td>3.0</td>\n",
       "      <td>6.0</td>\n",
       "    </tr>\n",
       "    <tr>\n",
       "      <th>4</th>\n",
       "      <td>0.0</td>\n",
       "      <td>1.0</td>\n",
       "      <td>1.0</td>\n",
       "      <td>1.0</td>\n",
       "      <td>24.0</td>\n",
       "      <td>0.0</td>\n",
       "      <td>0.0</td>\n",
       "      <td>0.0</td>\n",
       "      <td>1.0</td>\n",
       "      <td>1.0</td>\n",
       "      <td>...</td>\n",
       "      <td>1.0</td>\n",
       "      <td>0.0</td>\n",
       "      <td>2.0</td>\n",
       "      <td>3.0</td>\n",
       "      <td>0.0</td>\n",
       "      <td>0.0</td>\n",
       "      <td>0.0</td>\n",
       "      <td>11.0</td>\n",
       "      <td>5.0</td>\n",
       "      <td>4.0</td>\n",
       "    </tr>\n",
       "  </tbody>\n",
       "</table>\n",
       "<p>5 rows × 22 columns</p>\n",
       "</div>"
      ],
      "text/plain": [
       "   Diabetes_012  HighBP  HighChol  CholCheck   BMI  Smoker  Stroke  \\\n",
       "0           0.0     1.0       1.0        1.0  40.0     1.0     0.0   \n",
       "1           0.0     0.0       0.0        0.0  25.0     1.0     0.0   \n",
       "2           0.0     1.0       1.0        1.0  28.0     0.0     0.0   \n",
       "3           0.0     1.0       0.0        1.0  27.0     0.0     0.0   \n",
       "4           0.0     1.0       1.0        1.0  24.0     0.0     0.0   \n",
       "\n",
       "   HeartDiseaseorAttack  PhysActivity  Fruits  ...  AnyHealthcare  \\\n",
       "0                   0.0           0.0     0.0  ...            1.0   \n",
       "1                   0.0           1.0     0.0  ...            0.0   \n",
       "2                   0.0           0.0     1.0  ...            1.0   \n",
       "3                   0.0           1.0     1.0  ...            1.0   \n",
       "4                   0.0           1.0     1.0  ...            1.0   \n",
       "\n",
       "   NoDocbcCost  GenHlth  MentHlth  PhysHlth  DiffWalk  Sex   Age  Education  \\\n",
       "0          0.0      5.0      18.0      15.0       1.0  0.0   9.0        4.0   \n",
       "1          1.0      3.0       0.0       0.0       0.0  0.0   7.0        6.0   \n",
       "2          1.0      5.0      30.0      30.0       1.0  0.0   9.0        4.0   \n",
       "3          0.0      2.0       0.0       0.0       0.0  0.0  11.0        3.0   \n",
       "4          0.0      2.0       3.0       0.0       0.0  0.0  11.0        5.0   \n",
       "\n",
       "   Income  \n",
       "0     3.0  \n",
       "1     1.0  \n",
       "2     8.0  \n",
       "3     6.0  \n",
       "4     4.0  \n",
       "\n",
       "[5 rows x 22 columns]"
      ]
     },
     "execution_count": 45,
     "metadata": {},
     "output_type": "execute_result"
    }
   ],
   "source": [
    "# ===============================\n",
    "# Cell 2: Load Dataset\n",
    "# ===============================\n",
    "file_path = r\"data/diabetes_012_health_indicators_BRFSS2015.csv\"\n",
    "\n",
    "if not os.path.exists(file_path):\n",
    "    raise FileNotFoundError(f\"File not found at {file_path}\")\n",
    "\n",
    "df = pd.read_csv(file_path)\n",
    "print(f\"Dataset loaded: {df.shape} rows, {df.shape[1]} columns\")\n",
    "df.head()\n"
   ]
  },
  {
   "cell_type": "markdown",
   "id": "f9b09038",
   "metadata": {},
   "source": [
    "## Step 1: Correlation Matrix\n",
    "\n",
    "I calculated correlations between each feature and the diabetes outcome (`Diabetes_012`) to identify **risk and protective factors**.  \n",
    "Direct Health conditions show the strongest link to Diabetes, diet and life style are important but play a more subtle role.   "
   ]
  },
  {
   "cell_type": "code",
   "execution_count": 46,
   "id": "286a0028",
   "metadata": {},
   "outputs": [
    {
     "data": {
      "image/png": "[encoded data removed]",
      "text/plain": [
       "<Figure size 1200x1000 with 2 Axes>"
      ]
     },
     "metadata": {},
     "output_type": "display_data"
    }
   ],
   "source": [
    "# ===============================\n",
    "# Cell 3: Correlation Matrix\n",
    "# ===============================\n",
    "corr = df.corr(numeric_only=True)\n",
    "\n",
    "plt.figure(figsize=(12, 10))\n",
    "sns.heatmap(corr, cmap=\"RdBu_r\", center=0)\n",
    "plt.title(\"Correlation Matrix of Health Indicators\", fontsize=14)\n",
    "plt.savefig(\"images/correlation_matrix.png\", bbox_inches='tight')\n",
    "plt.show()\n",
    "\n"
   ]
  },
  {
   "cell_type": "markdown",
   "id": "d68474e1",
   "metadata": {},
   "source": [
    "Direct health conditions show the strongest link to diabetes, while diet and lifestyle are important but play a more subtle role. For instance, fruit and vegetable consumption, though universally regarded as important, appears to have less of a positive effect than income. This may be because reported intake of fruit and vegetables is more subjective than some of the other health-related questions."
   ]
  },
  {
   "cell_type": "markdown",
   "id": "a548496e",
   "metadata": {},
   "source": [
    "## Step 2: Identify Risk and Protective Factors\n",
    "- **Risk factors**: positively correlated with diabetes  \n",
    "- **Protective factors**: negatively correlated with diabetes\n"
   ]
  },
  {
   "cell_type": "code",
   "execution_count": 47,
   "id": "588cfd50",
   "metadata": {},
   "outputs": [
    {
     "data": {
      "application/vnd.microsoft.datawrangler.viewer.v0+json": {
       "columns": [
        {
         "name": "index",
         "rawType": "int64",
         "type": "integer"
        },
        {
         "name": "Risk Factors",
         "rawType": "object",
         "type": "string"
        }
       ],
       "ref": "9e41be41-77e4-4df3-8044-f82a8c385966",
       "rows": [
        [
         "0",
         "AnyHealthcare"
        ],
        [
         "1",
         "Sex"
        ],
        [
         "2",
         "NoDocbcCost"
        ],
        [
         "3",
         "Smoker"
        ],
        [
         "4",
         "CholCheck"
        ],
        [
         "5",
         "MentHlth"
        ],
        [
         "6",
         "Stroke"
        ],
        [
         "7",
         "PhysHlth"
        ],
        [
         "8",
         "HeartDiseaseorAttack"
        ],
        [
         "9",
         "Age"
        ],
        [
         "10",
         "HighChol"
        ],
        [
         "11",
         "DiffWalk"
        ],
        [
         "12",
         "BMI"
        ],
        [
         "13",
         "HighBP"
        ],
        [
         "14",
         "GenHlth"
        ]
       ],
       "shape": {
        "columns": 1,
        "rows": 15
       }
      },
      "text/html": [
       "<div>\n",
       "<style scoped>\n",
       "    .dataframe tbody tr th:only-of-type {\n",
       "        vertical-align: middle;\n",
       "    }\n",
       "\n",
       "    .dataframe tbody tr th {\n",
       "        vertical-align: top;\n",
       "    }\n",
       "\n",
       "    .dataframe thead th {\n",
       "        text-align: right;\n",
       "    }\n",
       "</style>\n",
       "<table border=\"1\" class=\"dataframe\">\n",
       "  <thead>\n",
       "    <tr style=\"text-align: right;\">\n",
       "      <th></th>\n",
       "      <th>Risk Factors</th>\n",
       "    </tr>\n",
       "  </thead>\n",
       "  <tbody>\n",
       "    <tr>\n",
       "      <th>0</th>\n",
       "      <td>AnyHealthcare</td>\n",
       "    </tr>\n",
       "    <tr>\n",
       "      <th>1</th>\n",
       "      <td>Sex</td>\n",
       "    </tr>\n",
       "    <tr>\n",
       "      <th>2</th>\n",
       "      <td>NoDocbcCost</td>\n",
       "    </tr>\n",
       "    <tr>\n",
       "      <th>3</th>\n",
       "      <td>Smoker</td>\n",
       "    </tr>\n",
       "    <tr>\n",
       "      <th>4</th>\n",
       "      <td>CholCheck</td>\n",
       "    </tr>\n",
       "    <tr>\n",
       "      <th>5</th>\n",
       "      <td>MentHlth</td>\n",
       "    </tr>\n",
       "    <tr>\n",
       "      <th>6</th>\n",
       "      <td>Stroke</td>\n",
       "    </tr>\n",
       "    <tr>\n",
       "      <th>7</th>\n",
       "      <td>PhysHlth</td>\n",
       "    </tr>\n",
       "    <tr>\n",
       "      <th>8</th>\n",
       "      <td>HeartDiseaseorAttack</td>\n",
       "    </tr>\n",
       "    <tr>\n",
       "      <th>9</th>\n",
       "      <td>Age</td>\n",
       "    </tr>\n",
       "    <tr>\n",
       "      <th>10</th>\n",
       "      <td>HighChol</td>\n",
       "    </tr>\n",
       "    <tr>\n",
       "      <th>11</th>\n",
       "      <td>DiffWalk</td>\n",
       "    </tr>\n",
       "    <tr>\n",
       "      <th>12</th>\n",
       "      <td>BMI</td>\n",
       "    </tr>\n",
       "    <tr>\n",
       "      <th>13</th>\n",
       "      <td>HighBP</td>\n",
       "    </tr>\n",
       "    <tr>\n",
       "      <th>14</th>\n",
       "      <td>GenHlth</td>\n",
       "    </tr>\n",
       "  </tbody>\n",
       "</table>\n",
       "</div>"
      ],
      "text/plain": [
       "            Risk Factors\n",
       "0          AnyHealthcare\n",
       "1                    Sex\n",
       "2            NoDocbcCost\n",
       "3                 Smoker\n",
       "4              CholCheck\n",
       "5               MentHlth\n",
       "6                 Stroke\n",
       "7               PhysHlth\n",
       "8   HeartDiseaseorAttack\n",
       "9                    Age\n",
       "10              HighChol\n",
       "11              DiffWalk\n",
       "12                   BMI\n",
       "13                HighBP\n",
       "14               GenHlth"
      ]
     },
     "metadata": {},
     "output_type": "display_data"
    },
    {
     "data": {
      "application/vnd.microsoft.datawrangler.viewer.v0+json": {
       "columns": [
        {
         "name": "index",
         "rawType": "int64",
         "type": "integer"
        },
        {
         "name": "Protective Factors",
         "rawType": "object",
         "type": "string"
        }
       ],
       "ref": "7b11855e-0cc4-4fcc-9dd5-23d2e8242532",
       "rows": [
        [
         "0",
         "Income"
        ],
        [
         "1",
         "Education"
        ],
        [
         "2",
         "PhysActivity"
        ],
        [
         "3",
         "Veggies"
        ],
        [
         "4",
         "HvyAlcoholConsump"
        ],
        [
         "5",
         "Fruits"
        ]
       ],
       "shape": {
        "columns": 1,
        "rows": 6
       }
      },
      "text/html": [
       "<div>\n",
       "<style scoped>\n",
       "    .dataframe tbody tr th:only-of-type {\n",
       "        vertical-align: middle;\n",
       "    }\n",
       "\n",
       "    .dataframe tbody tr th {\n",
       "        vertical-align: top;\n",
       "    }\n",
       "\n",
       "    .dataframe thead th {\n",
       "        text-align: right;\n",
       "    }\n",
       "</style>\n",
       "<table border=\"1\" class=\"dataframe\">\n",
       "  <thead>\n",
       "    <tr style=\"text-align: right;\">\n",
       "      <th></th>\n",
       "      <th>Protective Factors</th>\n",
       "    </tr>\n",
       "  </thead>\n",
       "  <tbody>\n",
       "    <tr>\n",
       "      <th>0</th>\n",
       "      <td>Income</td>\n",
       "    </tr>\n",
       "    <tr>\n",
       "      <th>1</th>\n",
       "      <td>Education</td>\n",
       "    </tr>\n",
       "    <tr>\n",
       "      <th>2</th>\n",
       "      <td>PhysActivity</td>\n",
       "    </tr>\n",
       "    <tr>\n",
       "      <th>3</th>\n",
       "      <td>Veggies</td>\n",
       "    </tr>\n",
       "    <tr>\n",
       "      <th>4</th>\n",
       "      <td>HvyAlcoholConsump</td>\n",
       "    </tr>\n",
       "    <tr>\n",
       "      <th>5</th>\n",
       "      <td>Fruits</td>\n",
       "    </tr>\n",
       "  </tbody>\n",
       "</table>\n",
       "</div>"
      ],
      "text/plain": [
       "  Protective Factors\n",
       "0             Income\n",
       "1          Education\n",
       "2       PhysActivity\n",
       "3            Veggies\n",
       "4  HvyAlcoholConsump\n",
       "5             Fruits"
      ]
     },
     "metadata": {},
     "output_type": "display_data"
    }
   ],
   "source": [
    "# ===============================\n",
    "# Cell 4: Risk and Protective Factors\n",
    "# ===============================\n",
    "target = 'Diabetes_012'\n",
    "correlations = corr[target].drop(target).sort_values()\n",
    "\n",
    "risk_factors = correlations[correlations > 0].index.tolist()\n",
    "protective_factors = correlations[correlations < 0].index.tolist()\n",
    "\n",
    "# Display as a table\n",
    "risk_table = pd.DataFrame({\"Risk Factors\": risk_factors})\n",
    "protective_table = pd.DataFrame({\"Protective Factors\": protective_factors})\n",
    "\n",
    "display(risk_table)\n",
    "display(protective_table)\n"
   ]
  },
  {
   "cell_type": "markdown",
   "id": "14166beb",
   "metadata": {},
   "source": [
    "Visual Analysis of Most Common Risk Factors\n",
    "# \n",
    "# This section provides comprehensive visualizations of the risk factors identified in my analysis.\n"
   ]
  },
  {
   "cell_type": "markdown",
   "id": "1f95527b",
   "metadata": {},
   "source": [
    "## Step 3: Compute RiskScore\n",
    "\n",
    "Since the dataset contains features with different ranges, I used StandardScaler to put them on the same scale and then computed a RiskScore as:\n",
    "\n",
    "RiskScore = sum of standardized risk factors − sum of standardized protective factors.”**\n"
   ]
  },
  {
   "cell_type": "code",
   "execution_count": 48,
   "id": "e8596b59",
   "metadata": {},
   "outputs": [
    {
     "data": {
      "application/vnd.microsoft.datawrangler.viewer.v0+json": {
       "columns": [
        {
         "name": "RiskLevel",
         "rawType": "category",
         "type": "unknown"
        },
        {
         "name": "count",
         "rawType": "int64",
         "type": "integer"
        }
       ],
       "ref": "70f4fe29-a10e-4655-bf5e-ec4cdee8971c",
       "rows": [
        [
         "Low",
         "126840"
        ],
        [
         "Medium",
         "101472"
        ],
        [
         "High",
         "25368"
        ]
       ],
       "shape": {
        "columns": 1,
        "rows": 3
       }
      },
      "text/plain": [
       "RiskLevel\n",
       "Low       126840\n",
       "Medium    101472\n",
       "High       25368\n",
       "Name: count, dtype: int64"
      ]
     },
     "metadata": {},
     "output_type": "display_data"
    }
   ],
   "source": [
    "# ===============================\n",
    "# Cell 5: Standardize Features & Compute RiskScore + RiskLevel\n",
    "# ===============================\n",
    "\n",
    "from sklearn.preprocessing import StandardScaler\n",
    "import numpy as np\n",
    "import pandas as pd\n",
    "\n",
    "# 1. Standardize all risk and protective factors\n",
    "scaler = StandardScaler()\n",
    "scaled = pd.DataFrame(\n",
    "    scaler.fit_transform(df[risk_factors + protective_factors]),\n",
    "    columns=risk_factors + protective_factors\n",
    ")\n",
    "\n",
    "# 2. Compute raw RiskScore\n",
    "df['RiskScore'] = (\n",
    "    scaled[risk_factors].sum(axis=1)\n",
    "    - scaled[protective_factors].sum(axis=1)\n",
    ")\n",
    "\n",
    "# 3. Define quantile thresholds for categories\n",
    "q_low  = df['RiskScore'].quantile(0.50)   # medium cutoff (50th percentile)\n",
    "q_high = df['RiskScore'].quantile(0.90)   # high-risk cutoff (90th percentile)\n",
    "\n",
    "# 4. Assign Low/Medium/High risk levels\n",
    "df['RiskLevel'] = pd.cut(\n",
    "    df['RiskScore'],\n",
    "    bins=[-np.inf, q_low, q_high, np.inf],\n",
    "    labels=['Low', 'Medium', 'High']\n",
    ")\n",
    "\n",
    "# 5. (Optional) Quick check of category counts\n",
    "display(df['RiskLevel'].value_counts())\n"
   ]
  },
  {
   "cell_type": "markdown",
   "id": "a63ba0e4",
   "metadata": {},
   "source": [
    "Most people in the dataset fall into the low to moderate risk category. However, a significant number are in the moderate risk group, and while fewer in number, there are unfortunately some individuals in the high-risk group, whom I will later identify for further intervention."
   ]
  },
  {
   "cell_type": "markdown",
   "id": "0552f6e6",
   "metadata": {},
   "source": [
    "## Step 4: Average RiskScore by Diabetes Status\n"
   ]
  },
  {
   "cell_type": "code",
   "execution_count": 49,
   "id": "ed58c442",
   "metadata": {},
   "outputs": [
    {
     "data": {
      "image/png": "[encoded data removed]",
      "text/plain": [
       "<Figure size 600x400 with 1 Axes>"
      ]
     },
     "metadata": {},
     "output_type": "display_data"
    },
    {
     "data": {
      "application/vnd.microsoft.datawrangler.viewer.v0+json": {
       "columns": [
        {
         "name": "index",
         "rawType": "int64",
         "type": "integer"
        },
        {
         "name": "Diabetes Status",
         "rawType": "object",
         "type": "string"
        },
        {
         "name": "Average Risk Score",
         "rawType": "float64",
         "type": "float"
        }
       ],
       "ref": "da79254c-74e6-438d-b90c-5585108a5909",
       "rows": [
        [
         "0",
         "No Diabetes (0)",
         "-1.1856507778748482"
        ],
        [
         "1",
         "Pre-diabetes (1)",
         "4.274329423503521"
        ],
        [
         "2",
         "Diabetes (2)",
         "6.608462304757086"
        ]
       ],
       "shape": {
        "columns": 2,
        "rows": 3
       }
      },
      "text/html": [
       "<div>\n",
       "<style scoped>\n",
       "    .dataframe tbody tr th:only-of-type {\n",
       "        vertical-align: middle;\n",
       "    }\n",
       "\n",
       "    .dataframe tbody tr th {\n",
       "        vertical-align: top;\n",
       "    }\n",
       "\n",
       "    .dataframe thead th {\n",
       "        text-align: right;\n",
       "    }\n",
       "</style>\n",
       "<table border=\"1\" class=\"dataframe\">\n",
       "  <thead>\n",
       "    <tr style=\"text-align: right;\">\n",
       "      <th></th>\n",
       "      <th>Diabetes Status</th>\n",
       "      <th>Average Risk Score</th>\n",
       "    </tr>\n",
       "  </thead>\n",
       "  <tbody>\n",
       "    <tr>\n",
       "      <th>0</th>\n",
       "      <td>No Diabetes (0)</td>\n",
       "      <td>-1.185651</td>\n",
       "    </tr>\n",
       "    <tr>\n",
       "      <th>1</th>\n",
       "      <td>Pre-diabetes (1)</td>\n",
       "      <td>4.274329</td>\n",
       "    </tr>\n",
       "    <tr>\n",
       "      <th>2</th>\n",
       "      <td>Diabetes (2)</td>\n",
       "      <td>6.608462</td>\n",
       "    </tr>\n",
       "  </tbody>\n",
       "</table>\n",
       "</div>"
      ],
      "text/plain": [
       "    Diabetes Status  Average Risk Score\n",
       "0   No Diabetes (0)           -1.185651\n",
       "1  Pre-diabetes (1)            4.274329\n",
       "2      Diabetes (2)            6.608462"
      ]
     },
     "metadata": {},
     "output_type": "display_data"
    }
   ],
   "source": [
    "# ===============================\n",
    "# Cell 6: Average RiskScore by Diabetes Status\n",
    "# ===============================\n",
    "group_scores = df.groupby(target)['RiskScore'].mean()\n",
    "\n",
    "plt.figure(figsize=(6, 4))\n",
    "group_scores.plot(kind=\"bar\", color=[\"green\", \"orange\", \"red\"])\n",
    "plt.title(\"Average Risk Score by Diabetes Status\")\n",
    "plt.ylabel(\"Average Risk Score\")\n",
    "plt.xticks([0, 1, 2], [\"No Diabetes (0)\", \"Pre-diabetes (1)\", \"Diabetes (2)\"], rotation=30)\n",
    "plt.savefig(\"images/avg_risk_by_status.png\", dpi=300, bbox_inches='tight')\n",
    "plt.show()\n",
    "\n",
    "# Table\n",
    "scores_df = pd.DataFrame({\n",
    "    'Diabetes Status': ['No Diabetes (0)', 'Pre-diabetes (1)', 'Diabetes (2)'],\n",
    "    'Average Risk Score': group_scores.values\n",
    "})\n",
    "display(scores_df)\n"
   ]
  },
  {
   "cell_type": "markdown",
   "id": "6d469596",
   "metadata": {},
   "source": [
    "The chart shows that individuals with pre-diabetes have average risk scores closer to those with diabetes than to those without. This pattern can be explained by several factors:\n",
    "- Risk Score Composition: Pre-diabetic individuals often show elevated values in key health indicators (e.g. glucose, BMI), which heavily influence the risk score.\n",
    "- Distribution Skew: The \"No Diabetes\" group may include many low-risk individuals, pulling its average down, while the pre-diabetes group is more tightly clustered around moderate-to-high scores.\n",
    "- Shared Risk Factors: Pre-diabetes and diabetes share many underlying risk factors—just at different thresholds—leading to similar scoring profiles.\n",
    "This suggests that pre-diabetes is not just a mild deviation from normal health, but often a strong signal of elevated risk—potentially warranting early intervention.\n"
   ]
  },
  {
   "cell_type": "markdown",
   "id": "3131c9bf",
   "metadata": {},
   "source": [
    "## Step 5: High-Risk Individuals (Top 10%)\n"
   ]
  },
  {
   "cell_type": "code",
   "execution_count": 50,
   "id": "cc0567e2",
   "metadata": {},
   "outputs": [
    {
     "data": {
      "image/png": "[encoded data removed]",
      "text/plain": [
       "<Figure size 1000x600 with 1 Axes>"
      ]
     },
     "metadata": {},
     "output_type": "display_data"
    }
   ],
   "source": [
    "# ===============================\n",
    "# Cell 7: Distribution with RiskLevel Bands + Top 10% Outline\n",
    "# ===============================\n",
    "import numpy as np\n",
    "import matplotlib.pyplot as plt\n",
    "import seaborn as sns\n",
    "\n",
    "# 1. Re-compute 90th percentile threshold (for your red outline)\n",
    "threshold = df['RiskScore'].quantile(0.90)\n",
    "\n",
    "# 2. Plot full-distribution, stacked by RiskLevel\n",
    "plt.figure(figsize=(10, 6))\n",
    "sns.histplot(\n",
    "    data=df,\n",
    "    x='RiskScore',\n",
    "    hue='RiskLevel',\n",
    "    bins=30,\n",
    "    palette={'Low': 'green', 'Medium': 'orange', 'High': 'red'},\n",
    "    multiple='stack',\n",
    "    edgecolor='w',\n",
    "    alpha=0.7\n",
    ")\n",
    "\n",
    "# 3. Overlay outline of the Top 10% (High-Risk) subset\n",
    "high = df[df['RiskScore'] >= threshold]['RiskScore']\n",
    "sns.histplot(\n",
    "    high,\n",
    "    bins=30,\n",
    "    color='none',\n",
    "    edgecolor='darkred',\n",
    "    linewidth=1.5,\n",
    "    alpha=1,\n",
    "    label='Top 10% (>= 90th pct.)'\n",
    ")\n",
    "\n",
    "# 4. Mark the 50th and 90th percentile cut-points\n",
    "q50 = df['RiskScore'].quantile(0.50)\n",
    "plt.axvline(q50,  color='black', linestyle='--', linewidth=1, label='50th pct.')\n",
    "plt.axvline(threshold, color='black', linestyle='-.', linewidth=1, label='90th pct.')\n",
    "\n",
    "# 5. Final tweaks\n",
    "plt.title('Risk Score Distribution by Level with Top 10% Overlay')\n",
    "plt.xlabel('Risk Score')\n",
    "plt.ylabel('Count')\n",
    "plt.legend(title='Category', loc='upper right')\n",
    "plt.tight_layout()\n",
    "plt.show()"
   ]
  },
  {
   "cell_type": "markdown",
   "id": "2cc21649",
   "metadata": {},
   "source": [
    "## Step 5: High-Risk Individuals (Top 10%)\n"
   ]
  },
  {
   "cell_type": "code",
   "execution_count": 51,
   "id": "a3a42970",
   "metadata": {},
   "outputs": [
    {
     "data": {
      "image/png": "[encoded data removed]",
      "text/plain": [
       "<Figure size 1000x600 with 1 Axes>"
      ]
     },
     "metadata": {},
     "output_type": "display_data"
    },
    {
     "data": {
      "text/html": [
       "<style type=\"text/css\">\n",
       "#T_d593c_row0_col0, #T_d593c_row0_col1, #T_d593c_row0_col3, #T_d593c_row1_col0, #T_d593c_row1_col1, #T_d593c_row1_col3, #T_d593c_row2_col0, #T_d593c_row2_col1, #T_d593c_row2_col3, #T_d593c_row3_col0, #T_d593c_row3_col1, #T_d593c_row3_col3, #T_d593c_row4_col0, #T_d593c_row4_col1, #T_d593c_row4_col3, #T_d593c_row5_col0, #T_d593c_row5_col1, #T_d593c_row5_col3, #T_d593c_row6_col0, #T_d593c_row6_col1, #T_d593c_row6_col3, #T_d593c_row7_col0, #T_d593c_row7_col1, #T_d593c_row7_col3, #T_d593c_row8_col0, #T_d593c_row8_col1, #T_d593c_row8_col3, #T_d593c_row9_col0, #T_d593c_row9_col1, #T_d593c_row9_col3 {\n",
       "  text-align: left;\n",
       "}\n",
       "#T_d593c_row0_col2 {\n",
       "  background-color: #67000d;\n",
       "  color: #f1f1f1;\n",
       "  text-align: left;\n",
       "}\n",
       "#T_d593c_row1_col2 {\n",
       "  background-color: #fb7c5c;\n",
       "  color: #f1f1f1;\n",
       "  text-align: left;\n",
       "}\n",
       "#T_d593c_row2_col2 {\n",
       "  background-color: #fca486;\n",
       "  color: #000000;\n",
       "  text-align: left;\n",
       "}\n",
       "#T_d593c_row3_col2 {\n",
       "  background-color: #fcb89e;\n",
       "  color: #000000;\n",
       "  text-align: left;\n",
       "}\n",
       "#T_d593c_row4_col2 {\n",
       "  background-color: #fedfd0;\n",
       "  color: #000000;\n",
       "  text-align: left;\n",
       "}\n",
       "#T_d593c_row5_col2 {\n",
       "  background-color: #fee5d8;\n",
       "  color: #000000;\n",
       "  text-align: left;\n",
       "}\n",
       "#T_d593c_row6_col2 {\n",
       "  background-color: #fee5d9;\n",
       "  color: #000000;\n",
       "  text-align: left;\n",
       "}\n",
       "#T_d593c_row7_col2 {\n",
       "  background-color: #fee8de;\n",
       "  color: #000000;\n",
       "  text-align: left;\n",
       "}\n",
       "#T_d593c_row8_col2 {\n",
       "  background-color: #ffece4;\n",
       "  color: #000000;\n",
       "  text-align: left;\n",
       "}\n",
       "#T_d593c_row9_col2 {\n",
       "  background-color: #fff5f0;\n",
       "  color: #000000;\n",
       "  text-align: left;\n",
       "}\n",
       "</style>\n",
       "<table id=\"T_d593c\">\n",
       "  <caption>🔍 Top 10 High-Risk Individuals (Based on Risk Score)</caption>\n",
       "  <thead>\n",
       "    <tr>\n",
       "      <th class=\"blank level0\" >&nbsp;</th>\n",
       "      <th id=\"T_d593c_level0_col0\" class=\"col_heading level0 col0\" >User Reference</th>\n",
       "      <th id=\"T_d593c_level0_col1\" class=\"col_heading level0 col1\" >Diabetes Status</th>\n",
       "      <th id=\"T_d593c_level0_col2\" class=\"col_heading level0 col2\" >Risk Score</th>\n",
       "      <th id=\"T_d593c_level0_col3\" class=\"col_heading level0 col3\" >Top Risk Features</th>\n",
       "    </tr>\n",
       "  </thead>\n",
       "  <tbody>\n",
       "    <tr>\n",
       "      <th id=\"T_d593c_level0_row0\" class=\"row_heading level0 row0\" >125316</th>\n",
       "      <td id=\"T_d593c_row0_col0\" class=\"data row0 col0\" >User_125316</td>\n",
       "      <td id=\"T_d593c_row0_col1\" class=\"data row0 col1\" >2.000000</td>\n",
       "      <td id=\"T_d593c_row0_col2\" class=\"data row0 col2\" >39.015752</td>\n",
       "      <td id=\"T_d593c_row0_col3\" class=\"data row0 col3\" >PhysHlth, GenHlth, DiffWalk</td>\n",
       "    </tr>\n",
       "    <tr>\n",
       "      <th id=\"T_d593c_level0_row1\" class=\"row_heading level0 row1\" >175620</th>\n",
       "      <td id=\"T_d593c_row1_col0\" class=\"data row1 col0\" >User_175620</td>\n",
       "      <td id=\"T_d593c_row1_col1\" class=\"data row1 col1\" >2.000000</td>\n",
       "      <td id=\"T_d593c_row1_col2\" class=\"data row1 col2\" >36.843539</td>\n",
       "      <td id=\"T_d593c_row1_col3\" class=\"data row1 col3\" >PhysHlth, GenHlth, DiffWalk</td>\n",
       "    </tr>\n",
       "    <tr>\n",
       "      <th id=\"T_d593c_level0_row2\" class=\"row_heading level0 row2\" >212060</th>\n",
       "      <td id=\"T_d593c_row2_col0\" class=\"data row2 col0\" >User_212060</td>\n",
       "      <td id=\"T_d593c_row2_col1\" class=\"data row2 col1\" >2.000000</td>\n",
       "      <td id=\"T_d593c_row2_col2\" class=\"data row2 col2\" >36.378560</td>\n",
       "      <td id=\"T_d593c_row2_col3\" class=\"data row2 col3\" >PhysHlth, GenHlth, DiffWalk</td>\n",
       "    </tr>\n",
       "    <tr>\n",
       "      <th id=\"T_d593c_level0_row3\" class=\"row_heading level0 row3\" >73531</th>\n",
       "      <td id=\"T_d593c_row3_col0\" class=\"data row3 col0\" >User_73531</td>\n",
       "      <td id=\"T_d593c_row3_col1\" class=\"data row3 col1\" >2.000000</td>\n",
       "      <td id=\"T_d593c_row3_col2\" class=\"data row3 col2\" >36.135917</td>\n",
       "      <td id=\"T_d593c_row3_col3\" class=\"data row3 col3\" >PhysHlth, GenHlth, DiffWalk</td>\n",
       "    </tr>\n",
       "    <tr>\n",
       "      <th id=\"T_d593c_level0_row4\" class=\"row_heading level0 row4\" >43423</th>\n",
       "      <td id=\"T_d593c_row4_col0\" class=\"data row4 col0\" >User_43423</td>\n",
       "      <td id=\"T_d593c_row4_col1\" class=\"data row4 col1\" >0.000000</td>\n",
       "      <td id=\"T_d593c_row4_col2\" class=\"data row4 col2\" >35.630625</td>\n",
       "      <td id=\"T_d593c_row4_col3\" class=\"data row4 col3\" >PhysHlth, GenHlth, DiffWalk</td>\n",
       "    </tr>\n",
       "    <tr>\n",
       "      <th id=\"T_d593c_level0_row5\" class=\"row_heading level0 row5\" >150916</th>\n",
       "      <td id=\"T_d593c_row5_col0\" class=\"data row5 col0\" >User_150916</td>\n",
       "      <td id=\"T_d593c_row5_col1\" class=\"data row5 col1\" >2.000000</td>\n",
       "      <td id=\"T_d593c_row5_col2\" class=\"data row5 col2\" >35.504104</td>\n",
       "      <td id=\"T_d593c_row5_col3\" class=\"data row5 col3\" >PhysHlth, GenHlth, DiffWalk</td>\n",
       "    </tr>\n",
       "    <tr>\n",
       "      <th id=\"T_d593c_level0_row6\" class=\"row_heading level0 row6\" >224827</th>\n",
       "      <td id=\"T_d593c_row6_col0\" class=\"data row6 col0\" >User_224827</td>\n",
       "      <td id=\"T_d593c_row6_col1\" class=\"data row6 col1\" >2.000000</td>\n",
       "      <td id=\"T_d593c_row6_col2\" class=\"data row6 col2\" >35.490690</td>\n",
       "      <td id=\"T_d593c_row6_col3\" class=\"data row6 col3\" >PhysHlth, GenHlth, DiffWalk</td>\n",
       "    </tr>\n",
       "    <tr>\n",
       "      <th id=\"T_d593c_level0_row7\" class=\"row_heading level0 row7\" >176186</th>\n",
       "      <td id=\"T_d593c_row7_col0\" class=\"data row7 col0\" >User_176186</td>\n",
       "      <td id=\"T_d593c_row7_col1\" class=\"data row7 col1\" >2.000000</td>\n",
       "      <td id=\"T_d593c_row7_col2\" class=\"data row7 col2\" >35.418050</td>\n",
       "      <td id=\"T_d593c_row7_col3\" class=\"data row7 col3\" >PhysHlth, GenHlth, DiffWalk</td>\n",
       "    </tr>\n",
       "    <tr>\n",
       "      <th id=\"T_d593c_level0_row8\" class=\"row_heading level0 row8\" >57219</th>\n",
       "      <td id=\"T_d593c_row8_col0\" class=\"data row8 col0\" >User_57219</td>\n",
       "      <td id=\"T_d593c_row8_col1\" class=\"data row8 col1\" >2.000000</td>\n",
       "      <td id=\"T_d593c_row8_col2\" class=\"data row8 col2\" >35.319019</td>\n",
       "      <td id=\"T_d593c_row8_col3\" class=\"data row8 col3\" >PhysHlth, GenHlth, DiffWalk</td>\n",
       "    </tr>\n",
       "    <tr>\n",
       "      <th id=\"T_d593c_level0_row9\" class=\"row_heading level0 row9\" >144955</th>\n",
       "      <td id=\"T_d593c_row9_col0\" class=\"data row9 col0\" >User_144955</td>\n",
       "      <td id=\"T_d593c_row9_col1\" class=\"data row9 col1\" >2.000000</td>\n",
       "      <td id=\"T_d593c_row9_col2\" class=\"data row9 col2\" >35.117431</td>\n",
       "      <td id=\"T_d593c_row9_col3\" class=\"data row9 col3\" >PhysHlth, GenHlth, DiffWalk</td>\n",
       "    </tr>\n",
       "  </tbody>\n",
       "</table>\n"
      ],
      "text/plain": [
       "<pandas.io.formats.style.Styler at 0x12b398cb110>"
      ]
     },
     "execution_count": 51,
     "metadata": {},
     "output_type": "execute_result"
    }
   ],
   "source": [
    "# ===============================\n",
    "# Cell 7: High-Risk Individuals\n",
    "# ===============================\n",
    "\n",
    "# Define threshold for top 10% risk\n",
    "threshold = df['RiskScore'].quantile(0.90)\n",
    "high_risk_individuals = df[df['RiskScore'] >= threshold].copy()\n",
    "\n",
    "# Define risk factors (ensure this is defined earlier in your notebook)\n",
    "risk_factors = ['GenHlth', 'DiffWalk', 'PhysHlth', 'HighBP', 'HeartDiseaseorAttack']\n",
    "\n",
    "# Function to extract top N contributing features\n",
    "def top_risk_features(row, n=3):\n",
    "    return ', '.join(row[risk_factors].sort_values(ascending=False).head(n).index.tolist())\n",
    "\n",
    "# Apply feature extraction\n",
    "high_risk_individuals['Top_Risk_Features'] = high_risk_individuals.apply(top_risk_features, axis=1)\n",
    "\n",
    "# Create synthetic User Reference column\n",
    "high_risk_individuals['User Reference'] = ['User_' + str(i) for i in high_risk_individuals.index]\n",
    "\n",
    "# Plot distribution\n",
    "plt.figure(figsize=(10, 6))\n",
    "sns.histplot(high_risk_individuals['RiskScore'], bins=20, kde=True, color=\"red\")\n",
    "plt.title(\"Distribution of Risk Scores for Top 10% At-Risk Individuals\")\n",
    "plt.xlabel(\"Risk Score\")\n",
    "plt.ylabel(\"Count\")\n",
    "plt.savefig(\"images/high_risk_distribution.png\", dpi=300, bbox_inches='tight')\n",
    "plt.show()\n",
    "\n",
    "# Display styled table of top 10 individuals\n",
    "table_df = high_risk_individuals[['User Reference', target, 'RiskScore', 'Top_Risk_Features']] \\\n",
    "    .sort_values('RiskScore', ascending=False) \\\n",
    "    .head(10) \\\n",
    "    .rename(columns={\n",
    "        target: 'Diabetes Status',\n",
    "        'RiskScore': 'Risk Score',\n",
    "        'Top_Risk_Features': 'Top Risk Features'\n",
    "    })\n",
    "\n",
    "table_df.style.set_caption(\"🔍 Top 10 High-Risk Individuals (Based on Risk Score)\") \\\n",
    "    .background_gradient(subset=['Risk Score'], cmap='Reds') \\\n",
    "    .set_properties(**{'text-align': 'left'})"
   ]
  },
  {
   "cell_type": "code",
   "execution_count": null,
   "id": "fa18b6a6",
   "metadata": {},
   "outputs": [],
   "source": []
  },
  {
   "cell_type": "markdown",
   "id": "6463a46b",
   "metadata": {},
   "source": [
    "## Step 6: High-Risk Non-Diabetic / Pre-Diabetic Individuals\n"
   ]
  },
  {
   "cell_type": "code",
   "execution_count": 52,
   "id": "bda24041",
   "metadata": {},
   "outputs": [
    {
     "name": "stderr",
     "output_type": "stream",
     "text": [
      "C:\\Users\\leonw\\AppData\\Local\\Temp\\ipykernel_24136\\1019694969.py:5: SettingWithCopyWarning: \n",
      "A value is trying to be set on a copy of a slice from a DataFrame.\n",
      "Try using .loc[row_indexer,col_indexer] = value instead\n",
      "\n",
      "See the caveats in the documentation: https://pandas.pydata.org/pandas-docs/stable/user_guide/indexing.html#returning-a-view-versus-a-copy\n",
      "  high_risk_non_diabetic['Top_Risk_Features'] = high_risk_non_diabetic.apply(top_risk_features, axis=1)\n"
     ]
    },
    {
     "data": {
      "image/png": "[encoded data removed]",
      "text/plain": [
       "<Figure size 1000x600 with 1 Axes>"
      ]
     },
     "metadata": {},
     "output_type": "display_data"
    },
    {
     "data": {
      "application/vnd.microsoft.datawrangler.viewer.v0+json": {
       "columns": [
        {
         "name": "index",
         "rawType": "int64",
         "type": "integer"
        },
        {
         "name": "Diabetes_012",
         "rawType": "float64",
         "type": "float"
        },
        {
         "name": "RiskScore",
         "rawType": "float64",
         "type": "float"
        },
        {
         "name": "Top_Risk_Features",
         "rawType": "object",
         "type": "string"
        }
       ],
       "ref": "b1eb7e20-666e-4461-956c-cf5544360d14",
       "rows": [
        [
         "43423",
         "0.0",
         "35.630624550867225",
         "PhysHlth, GenHlth, DiffWalk"
        ],
        [
         "206840",
         "0.0",
         "34.543105579881285",
         "PhysHlth, GenHlth, DiffWalk"
        ],
        [
         "18802",
         "0.0",
         "33.81155252920806",
         "PhysHlth, GenHlth, DiffWalk"
        ],
        [
         "210293",
         "0.0",
         "33.661778859832104",
         "PhysHlth, GenHlth, DiffWalk"
        ],
        [
         "16748",
         "0.0",
         "33.23695513745564",
         "PhysHlth, GenHlth, HighBP"
        ],
        [
         "50683",
         "1.0",
         "33.11971190244282",
         "PhysHlth, GenHlth, DiffWalk"
        ],
        [
         "224752",
         "0.0",
         "33.07877964716772",
         "PhysHlth, GenHlth, DiffWalk"
        ],
        [
         "207482",
         "0.0",
         "33.02613823504457",
         "GenHlth, PhysHlth, DiffWalk"
        ],
        [
         "1940",
         "0.0",
         "32.930086549551824",
         "PhysHlth, GenHlth, DiffWalk"
        ],
        [
         "174831",
         "0.0",
         "32.882679373525185",
         "PhysHlth, GenHlth, DiffWalk"
        ]
       ],
       "shape": {
        "columns": 3,
        "rows": 10
       }
      },
      "text/html": [
       "<div>\n",
       "<style scoped>\n",
       "    .dataframe tbody tr th:only-of-type {\n",
       "        vertical-align: middle;\n",
       "    }\n",
       "\n",
       "    .dataframe tbody tr th {\n",
       "        vertical-align: top;\n",
       "    }\n",
       "\n",
       "    .dataframe thead th {\n",
       "        text-align: right;\n",
       "    }\n",
       "</style>\n",
       "<table border=\"1\" class=\"dataframe\">\n",
       "  <thead>\n",
       "    <tr style=\"text-align: right;\">\n",
       "      <th></th>\n",
       "      <th>Diabetes_012</th>\n",
       "      <th>RiskScore</th>\n",
       "      <th>Top_Risk_Features</th>\n",
       "    </tr>\n",
       "  </thead>\n",
       "  <tbody>\n",
       "    <tr>\n",
       "      <th>43423</th>\n",
       "      <td>0.0</td>\n",
       "      <td>35.630625</td>\n",
       "      <td>PhysHlth, GenHlth, DiffWalk</td>\n",
       "    </tr>\n",
       "    <tr>\n",
       "      <th>206840</th>\n",
       "      <td>0.0</td>\n",
       "      <td>34.543106</td>\n",
       "      <td>PhysHlth, GenHlth, DiffWalk</td>\n",
       "    </tr>\n",
       "    <tr>\n",
       "      <th>18802</th>\n",
       "      <td>0.0</td>\n",
       "      <td>33.811553</td>\n",
       "      <td>PhysHlth, GenHlth, DiffWalk</td>\n",
       "    </tr>\n",
       "    <tr>\n",
       "      <th>210293</th>\n",
       "      <td>0.0</td>\n",
       "      <td>33.661779</td>\n",
       "      <td>PhysHlth, GenHlth, DiffWalk</td>\n",
       "    </tr>\n",
       "    <tr>\n",
       "      <th>16748</th>\n",
       "      <td>0.0</td>\n",
       "      <td>33.236955</td>\n",
       "      <td>PhysHlth, GenHlth, HighBP</td>\n",
       "    </tr>\n",
       "    <tr>\n",
       "      <th>50683</th>\n",
       "      <td>1.0</td>\n",
       "      <td>33.119712</td>\n",
       "      <td>PhysHlth, GenHlth, DiffWalk</td>\n",
       "    </tr>\n",
       "    <tr>\n",
       "      <th>224752</th>\n",
       "      <td>0.0</td>\n",
       "      <td>33.078780</td>\n",
       "      <td>PhysHlth, GenHlth, DiffWalk</td>\n",
       "    </tr>\n",
       "    <tr>\n",
       "      <th>207482</th>\n",
       "      <td>0.0</td>\n",
       "      <td>33.026138</td>\n",
       "      <td>GenHlth, PhysHlth, DiffWalk</td>\n",
       "    </tr>\n",
       "    <tr>\n",
       "      <th>1940</th>\n",
       "      <td>0.0</td>\n",
       "      <td>32.930087</td>\n",
       "      <td>PhysHlth, GenHlth, DiffWalk</td>\n",
       "    </tr>\n",
       "    <tr>\n",
       "      <th>174831</th>\n",
       "      <td>0.0</td>\n",
       "      <td>32.882679</td>\n",
       "      <td>PhysHlth, GenHlth, DiffWalk</td>\n",
       "    </tr>\n",
       "  </tbody>\n",
       "</table>\n",
       "</div>"
      ],
      "text/plain": [
       "        Diabetes_012  RiskScore            Top_Risk_Features\n",
       "43423            0.0  35.630625  PhysHlth, GenHlth, DiffWalk\n",
       "206840           0.0  34.543106  PhysHlth, GenHlth, DiffWalk\n",
       "18802            0.0  33.811553  PhysHlth, GenHlth, DiffWalk\n",
       "210293           0.0  33.661779  PhysHlth, GenHlth, DiffWalk\n",
       "16748            0.0  33.236955    PhysHlth, GenHlth, HighBP\n",
       "50683            1.0  33.119712  PhysHlth, GenHlth, DiffWalk\n",
       "224752           0.0  33.078780  PhysHlth, GenHlth, DiffWalk\n",
       "207482           0.0  33.026138  GenHlth, PhysHlth, DiffWalk\n",
       "1940             0.0  32.930087  PhysHlth, GenHlth, DiffWalk\n",
       "174831           0.0  32.882679  PhysHlth, GenHlth, DiffWalk"
      ]
     },
     "metadata": {},
     "output_type": "display_data"
    },
    {
     "data": {
      "text/html": [
       "<style type=\"text/css\">\n",
       "#T_52520_row0_col1 {\n",
       "  background-color: #b40426;\n",
       "  color: #f1f1f1;\n",
       "}\n",
       "#T_52520_row1_col1 {\n",
       "  background-color: #cd423b;\n",
       "  color: #f1f1f1;\n",
       "}\n",
       "#T_52520_row2_col1 {\n",
       "  background-color: #d75445;\n",
       "  color: #f1f1f1;\n",
       "}\n",
       "#T_52520_row3_col1 {\n",
       "  background-color: #3b4cc0;\n",
       "  color: #f1f1f1;\n",
       "}\n",
       "#T_52520_row4_col1 {\n",
       "  background-color: #e36c55;\n",
       "  color: #f1f1f1;\n",
       "}\n",
       "#T_52520_row5_col1 {\n",
       "  background-color: #4b64d5;\n",
       "  color: #f1f1f1;\n",
       "}\n",
       "#T_52520_row6_col1 {\n",
       "  background-color: #ee8669;\n",
       "  color: #f1f1f1;\n",
       "}\n",
       "#T_52520_row7_col1 {\n",
       "  background-color: #4f69d9;\n",
       "  color: #f1f1f1;\n",
       "}\n",
       "#T_52520_row8_col1 {\n",
       "  background-color: #6e90f2;\n",
       "  color: #f1f1f1;\n",
       "}\n",
       "#T_52520_row9_col1 {\n",
       "  background-color: #7a9df8;\n",
       "  color: #f1f1f1;\n",
       "}\n",
       "</style>\n",
       "<table id=\"T_52520\">\n",
       "  <caption>Top Factors Impacting RiskScore</caption>\n",
       "  <thead>\n",
       "    <tr>\n",
       "      <th class=\"blank level0\" >&nbsp;</th>\n",
       "      <th id=\"T_52520_level0_col0\" class=\"col_heading level0 col0\" >Factor</th>\n",
       "      <th id=\"T_52520_level0_col1\" class=\"col_heading level0 col1\" >Impact</th>\n",
       "      <th id=\"T_52520_level0_col2\" class=\"col_heading level0 col2\" >Type</th>\n",
       "    </tr>\n",
       "  </thead>\n",
       "  <tbody>\n",
       "    <tr>\n",
       "      <th id=\"T_52520_level0_row0\" class=\"row_heading level0 row0\" >0</th>\n",
       "      <td id=\"T_52520_row0_col0\" class=\"data row0 col0\" >GenHlth</td>\n",
       "      <td id=\"T_52520_row0_col1\" class=\"data row0 col1\" >0.671176</td>\n",
       "      <td id=\"T_52520_row0_col2\" class=\"data row0 col2\" >Risk</td>\n",
       "    </tr>\n",
       "    <tr>\n",
       "      <th id=\"T_52520_level0_row1\" class=\"row_heading level0 row1\" >1</th>\n",
       "      <td id=\"T_52520_row1_col0\" class=\"data row1 col0\" >DiffWalk</td>\n",
       "      <td id=\"T_52520_row1_col1\" class=\"data row1 col1\" >0.585545</td>\n",
       "      <td id=\"T_52520_row1_col2\" class=\"data row1 col2\" >Risk</td>\n",
       "    </tr>\n",
       "    <tr>\n",
       "      <th id=\"T_52520_level0_row2\" class=\"row_heading level0 row2\" >2</th>\n",
       "      <td id=\"T_52520_row2_col0\" class=\"data row2 col0\" >PhysHlth</td>\n",
       "      <td id=\"T_52520_row2_col1\" class=\"data row2 col1\" >0.550730</td>\n",
       "      <td id=\"T_52520_row2_col2\" class=\"data row2 col2\" >Risk</td>\n",
       "    </tr>\n",
       "    <tr>\n",
       "      <th id=\"T_52520_level0_row3\" class=\"row_heading level0 row3\" >5</th>\n",
       "      <td id=\"T_52520_row3_col0\" class=\"data row3 col0\" >Income</td>\n",
       "      <td id=\"T_52520_row3_col1\" class=\"data row3 col1\" >-0.507370</td>\n",
       "      <td id=\"T_52520_row3_col2\" class=\"data row3 col2\" >Protective</td>\n",
       "    </tr>\n",
       "    <tr>\n",
       "      <th id=\"T_52520_level0_row4\" class=\"row_heading level0 row4\" >3</th>\n",
       "      <td id=\"T_52520_row4_col0\" class=\"data row4 col0\" >HighBP</td>\n",
       "      <td id=\"T_52520_row4_col1\" class=\"data row4 col1\" >0.494741</td>\n",
       "      <td id=\"T_52520_row4_col2\" class=\"data row4 col2\" >Risk</td>\n",
       "    </tr>\n",
       "    <tr>\n",
       "      <th id=\"T_52520_level0_row5\" class=\"row_heading level0 row5\" >6</th>\n",
       "      <td id=\"T_52520_row5_col0\" class=\"data row5 col0\" >Education</td>\n",
       "      <td id=\"T_52520_row5_col1\" class=\"data row5 col1\" >-0.442475</td>\n",
       "      <td id=\"T_52520_row5_col2\" class=\"data row5 col2\" >Protective</td>\n",
       "    </tr>\n",
       "    <tr>\n",
       "      <th id=\"T_52520_level0_row6\" class=\"row_heading level0 row6\" >4</th>\n",
       "      <td id=\"T_52520_row6_col0\" class=\"data row6 col0\" >HeartDiseaseorAttack</td>\n",
       "      <td id=\"T_52520_row6_col1\" class=\"data row6 col1\" >0.430825</td>\n",
       "      <td id=\"T_52520_row6_col2\" class=\"data row6 col2\" >Risk</td>\n",
       "    </tr>\n",
       "    <tr>\n",
       "      <th id=\"T_52520_level0_row7\" class=\"row_heading level0 row7\" >7</th>\n",
       "      <td id=\"T_52520_row7_col0\" class=\"data row7 col0\" >PhysActivity</td>\n",
       "      <td id=\"T_52520_row7_col1\" class=\"data row7 col1\" >-0.424512</td>\n",
       "      <td id=\"T_52520_row7_col2\" class=\"data row7 col2\" >Protective</td>\n",
       "    </tr>\n",
       "    <tr>\n",
       "      <th id=\"T_52520_level0_row8\" class=\"row_heading level0 row8\" >8</th>\n",
       "      <td id=\"T_52520_row8_col0\" class=\"data row8 col0\" >Veggies</td>\n",
       "      <td id=\"T_52520_row8_col1\" class=\"data row8 col1\" >-0.314571</td>\n",
       "      <td id=\"T_52520_row8_col2\" class=\"data row8 col2\" >Protective</td>\n",
       "    </tr>\n",
       "    <tr>\n",
       "      <th id=\"T_52520_level0_row9\" class=\"row_heading level0 row9\" >9</th>\n",
       "      <td id=\"T_52520_row9_col0\" class=\"data row9 col0\" >Fruits</td>\n",
       "      <td id=\"T_52520_row9_col1\" class=\"data row9 col1\" >-0.276144</td>\n",
       "      <td id=\"T_52520_row9_col2\" class=\"data row9 col2\" >Protective</td>\n",
       "    </tr>\n",
       "  </tbody>\n",
       "</table>\n"
      ],
      "text/plain": [
       "<pandas.io.formats.style.Styler at 0x12b356da990>"
      ]
     },
     "execution_count": 52,
     "metadata": {},
     "output_type": "execute_result"
    }
   ],
   "source": [
    "# ===============================\n",
    "# Cell 8: High-Risk Non-Diabetic/Pre-Diabetic\n",
    "# ===============================\n",
    "high_risk_non_diabetic = high_risk_individuals[high_risk_individuals[target] != 2]\n",
    "high_risk_non_diabetic['Top_Risk_Features'] = high_risk_non_diabetic.apply(top_risk_features, axis=1)\n",
    "\n",
    "plt.figure(figsize=(10, 6))\n",
    "sns.histplot(high_risk_non_diabetic['RiskScore'], bins=20, kde=True, color=\"orange\")\n",
    "plt.title(\"High-Risk Non-Diabetic/Pre-diabetic Individuals\")\n",
    "plt.xlabel(\"Risk Score\")\n",
    "plt.ylabel(\"Count\")\n",
    "plt.savefig(\"images/high_risk_non_diabetic.png\", dpi=300, bbox_inches='tight')\n",
    "plt.show()\n",
    "\n",
    "display(high_risk_non_diabetic[['Diabetes_012','RiskScore','Top_Risk_Features']].sort_values('RiskScore', ascending=False).head(10))\n",
    "# Convert to Series\n",
    "risk_series = pd.Series(risk_factors, name='RiskScore Impact')\n",
    "protective_series = pd.Series(protective_factors, name='RiskScore Impact')\n",
    "\n",
    "# Add a label column\n",
    "risk_df = pd.DataFrame({'Factor': risk_series.index, 'Impact': risk_series.values, 'Type': 'Risk'})\n",
    "protective_df = pd.DataFrame({'Factor': protective_series.index, 'Impact': protective_series.values, 'Type': 'Protective'})\n",
    "\n",
    "# Combine both\n",
    "combined_df = pd.concat([risk_df, protective_df], ignore_index=True)\n",
    "\n",
    "# Risk factors\n",
    "risk_factors = {\n",
    "    'GenHlth': 0.671176,\n",
    "    'DiffWalk': 0.585545,\n",
    "    'PhysHlth': 0.550730,\n",
    "    'HighBP': 0.494741,\n",
    "    'HeartDiseaseorAttack': 0.430825\n",
    "}\n",
    "\n",
    "# Protective factors\n",
    "protective_factors = {\n",
    "    'Income': -0.507370,\n",
    "    'Education': -0.442475,\n",
    "    'PhysActivity': -0.424512,\n",
    "    'Veggies': -0.314571,\n",
    "    'Fruits': -0.276144\n",
    "}\n",
    "\n",
    "# Convert to Series\n",
    "risk_series = pd.Series(risk_factors, name='RiskScore Impact')\n",
    "protective_series = pd.Series(protective_factors, name='RiskScore Impact')\n",
    "\n",
    "# Add a label column\n",
    "risk_df = pd.DataFrame({'Factor': risk_series.index, 'Impact': risk_series.values, 'Type': 'Risk'})\n",
    "protective_df = pd.DataFrame({'Factor': protective_series.index, 'Impact': protective_series.values, 'Type': 'Protective'})\n",
    "\n",
    "# Combine both\n",
    "combined_df = pd.concat([risk_df, protective_df], ignore_index=True)\n",
    "\n",
    "# Sort by absolute impact (optional)\n",
    "combined_df['AbsImpact'] = combined_df['Impact'].abs()\n",
    "combined_df = combined_df.sort_values(by='AbsImpact', ascending=False)\n",
    "\n",
    "# Drop helper column if not needed\n",
    "combined_df.drop(columns='AbsImpact', inplace=True)\n",
    "\n",
    "# Display\n",
    "combined_df.style.set_caption(\"Top Factors Impacting RiskScore\").background_gradient(subset=['Impact'], cmap='coolwarm')\n",
    "\n",
    "\n",
    "\n"
   ]
  },
  {
   "cell_type": "markdown",
   "id": "1064261f",
   "metadata": {},
   "source": [
    "## Step 7: Income Analysis (4 Groups)\n"
   ]
  },
  {
   "cell_type": "code",
   "execution_count": 53,
   "id": "1421c8ff",
   "metadata": {},
   "outputs": [
    {
     "name": "stderr",
     "output_type": "stream",
     "text": [
      "C:\\Users\\leonw\\AppData\\Local\\Temp\\ipykernel_24136\\3788231791.py:11: FutureWarning: The default of observed=False is deprecated and will be changed to True in a future version of pandas. Pass observed=False to retain current behavior or observed=True to adopt the future default and silence this warning.\n",
      "  income_risk = df.groupby('IncomeGroup')['RiskScore'].mean()\n"
     ]
    },
    {
     "data": {
      "image/png": "[encoded data removed]",
      "text/plain": [
       "<Figure size 800x500 with 1 Axes>"
      ]
     },
     "metadata": {},
     "output_type": "display_data"
    },
    {
     "name": "stderr",
     "output_type": "stream",
     "text": [
      "C:\\Users\\leonw\\AppData\\Local\\Temp\\ipykernel_24136\\3788231791.py:21: FutureWarning: The default of observed=False is deprecated and will be changed to True in a future version of pandas. Pass observed=False to retain current behavior or observed=True to adopt the future default and silence this warning.\n",
      "  income_diabetes = df.groupby(['IncomeGroup', target]).size().unstack(fill_value=0)\n"
     ]
    },
    {
     "data": {
      "image/png": "[encoded data removed]",
      "text/plain": [
       "<Figure size 800x500 with 1 Axes>"
      ]
     },
     "metadata": {},
     "output_type": "display_data"
    }
   ],
   "source": [
    "# ===============================\n",
    "# Cell 9: Income Analysis\n",
    "# ===============================\n",
    "if 'Income' in df.columns:\n",
    "    income_groups = pd.qcut(df['Income'], q=4, duplicates='drop')\n",
    "    n_groups = income_groups.cat.categories.size\n",
    "    labels = ['Low', 'Medium', 'High', 'Very High'][:n_groups]\n",
    "    df['IncomeGroup'] = income_groups.cat.rename_categories(labels)\n",
    "    \n",
    "    # Average RiskScore by IncomeGroup\n",
    "    income_risk = df.groupby('IncomeGroup')['RiskScore'].mean()\n",
    "    plt.figure(figsize=(8, 5))\n",
    "    sns.barplot(x=income_risk.index, y=income_risk.values, color='teal')\n",
    "    plt.title(\"Average Risk Score by Income Group\")\n",
    "    plt.xlabel(\"Income Group\")\n",
    "    plt.ylabel(\"Average Risk Score\")\n",
    "    plt.savefig(\"images/income_risk.png\", dpi=300, bbox_inches='tight')\n",
    "    plt.show()\n",
    "    \n",
    "    # Diabetes prevalence by income group\n",
    "income_diabetes = df.groupby(['IncomeGroup', target]).size().unstack(fill_value=0)\n",
    "\n",
    "# Rename columns for readability\n",
    "income_diabetes.columns = ['No Diabetes', 'Pre-diabetes', 'Diabetes']\n",
    "\n",
    "# Convert to proportions\n",
    "income_diabetes_prop = income_diabetes.div(income_diabetes.sum(axis=1), axis=0)\n",
    "\n",
    "# Plot stacked bar chart\n",
    "income_diabetes_prop.plot(kind='bar', stacked=True, figsize=(8,5), color=['green','orange','red'])\n",
    "plt.title(\"Diabetes Status Distribution by Income Group\")\n",
    "plt.ylabel(\"Proportion\")\n",
    "plt.xlabel(\"Income Group\")\n",
    "plt.xticks(rotation=0)\n",
    "plt.savefig(\"images/income_diabetes_status.png\", dpi=300, bbox_inches='tight')\n",
    "plt.show()\n"
   ]
  },
  {
   "cell_type": "markdown",
   "id": "192612d1",
   "metadata": {},
   "source": [
    "## Comparing Risk vs Protective Factors\n",
    "This section explores which factors contribute more to overall diabetes risk, and which are most actionable for reducing risk.\n",
    "\n"
   ]
  },
  {
   "cell_type": "code",
   "execution_count": 54,
   "id": "e47cd7d0",
   "metadata": {},
   "outputs": [
    {
     "ename": "TypeError",
     "evalue": "Passing a dict as an indexer is not supported. Use a list instead.",
     "output_type": "error",
     "traceback": [
      "\u001b[31m---------------------------------------------------------------------------\u001b[39m",
      "\u001b[31mTypeError\u001b[39m                                 Traceback (most recent call last)",
      "\u001b[36mCell\u001b[39m\u001b[36m \u001b[39m\u001b[32mIn[54]\u001b[39m\u001b[32m, line 2\u001b[39m\n\u001b[32m      1\u001b[39m \u001b[38;5;66;03m# Separate risk and protective scores\u001b[39;00m\n\u001b[32m----> \u001b[39m\u001b[32m2\u001b[39m df[\u001b[33m'\u001b[39m\u001b[33mRiskScore_only\u001b[39m\u001b[33m'\u001b[39m] = \u001b[43mscaled\u001b[49m\u001b[43m[\u001b[49m\u001b[43mrisk_factors\u001b[49m\u001b[43m]\u001b[49m.sum(axis=\u001b[32m1\u001b[39m)\n\u001b[32m      3\u001b[39m df[\u001b[33m'\u001b[39m\u001b[33mProtectiveScore_only\u001b[39m\u001b[33m'\u001b[39m] = scaled[protective_factors].sum(axis=\u001b[32m1\u001b[39m)\n\u001b[32m      5\u001b[39m \u001b[38;5;66;03m# Boxplot of Risk factors by diabetes status\u001b[39;00m\n",
      "\u001b[36mFile \u001b[39m\u001b[32mc:\\Users\\leonw\\AppData\\Local\\Programs\\Python\\Python313\\Lib\\site-packages\\pandas\\core\\frame.py:4063\u001b[39m, in \u001b[36mDataFrame.__getitem__\u001b[39m\u001b[34m(self, key)\u001b[39m\n\u001b[32m   4062\u001b[39m \u001b[38;5;28;01mdef\u001b[39;00m\u001b[38;5;250m \u001b[39m\u001b[34m__getitem__\u001b[39m(\u001b[38;5;28mself\u001b[39m, key):\n\u001b[32m-> \u001b[39m\u001b[32m4063\u001b[39m     \u001b[43mcheck_dict_or_set_indexers\u001b[49m\u001b[43m(\u001b[49m\u001b[43mkey\u001b[49m\u001b[43m)\u001b[49m\n\u001b[32m   4064\u001b[39m     key = lib.item_from_zerodim(key)\n\u001b[32m   4065\u001b[39m     key = com.apply_if_callable(key, \u001b[38;5;28mself\u001b[39m)\n",
      "\u001b[36mFile \u001b[39m\u001b[32mc:\\Users\\leonw\\AppData\\Local\\Programs\\Python\\Python313\\Lib\\site-packages\\pandas\\core\\indexing.py:2783\u001b[39m, in \u001b[36mcheck_dict_or_set_indexers\u001b[39m\u001b[34m(key)\u001b[39m\n\u001b[32m   2774\u001b[39m     \u001b[38;5;28;01mraise\u001b[39;00m \u001b[38;5;167;01mTypeError\u001b[39;00m(\n\u001b[32m   2775\u001b[39m         \u001b[33m\"\u001b[39m\u001b[33mPassing a set as an indexer is not supported. Use a list instead.\u001b[39m\u001b[33m\"\u001b[39m\n\u001b[32m   2776\u001b[39m     )\n\u001b[32m   2778\u001b[39m \u001b[38;5;28;01mif\u001b[39;00m (\n\u001b[32m   2779\u001b[39m     \u001b[38;5;28misinstance\u001b[39m(key, \u001b[38;5;28mdict\u001b[39m)\n\u001b[32m   2780\u001b[39m     \u001b[38;5;129;01mor\u001b[39;00m \u001b[38;5;28misinstance\u001b[39m(key, \u001b[38;5;28mtuple\u001b[39m)\n\u001b[32m   2781\u001b[39m     \u001b[38;5;129;01mand\u001b[39;00m \u001b[38;5;28many\u001b[39m(\u001b[38;5;28misinstance\u001b[39m(x, \u001b[38;5;28mdict\u001b[39m) \u001b[38;5;28;01mfor\u001b[39;00m x \u001b[38;5;129;01min\u001b[39;00m key)\n\u001b[32m   2782\u001b[39m ):\n\u001b[32m-> \u001b[39m\u001b[32m2783\u001b[39m     \u001b[38;5;28;01mraise\u001b[39;00m \u001b[38;5;167;01mTypeError\u001b[39;00m(\n\u001b[32m   2784\u001b[39m         \u001b[33m\"\u001b[39m\u001b[33mPassing a dict as an indexer is not supported. Use a list instead.\u001b[39m\u001b[33m\"\u001b[39m\n\u001b[32m   2785\u001b[39m     )\n",
      "\u001b[31mTypeError\u001b[39m: Passing a dict as an indexer is not supported. Use a list instead."
     ]
    }
   ],
   "source": [
    "# Separate risk and protective scores\n",
    "df['RiskScore_only'] = scaled[risk_factors].sum(axis=1)\n",
    "df['ProtectiveScore_only'] = scaled[protective_factors].sum(axis=1)\n",
    "\n",
    "# Boxplot of Risk factors by diabetes status\n",
    "plt.figure(figsize=(10,5))\n",
    "sns.boxplot(data=df, x=target, y='RiskScore_only', color='red')\n",
    "plt.title(\"Distribution of Risk Factors by Diabetes Status\")\n",
    "plt.savefig(\"images/risk_factors_distribution.png\", dpi=300, bbox_inches='tight') \n",
    "plt.show()\n",
    "\n",
    "# Boxplot of Protective factors by diabetes status\n",
    "plt.figure(figsize=(10,5))\n",
    "sns.boxplot(data=df, x=target, y='ProtectiveScore_only', color='green')\n",
    "plt.title(\"Distribution of Protective Factors by Diabetes Status\")\n",
    "plt.savefig(\"images/protective_factors_distribution.png\", dpi=300, bbox_inches='tight') \n",
    "plt.show()"
   ]
  },
  {
   "cell_type": "code",
   "execution_count": null,
   "id": "3a786a3e",
   "metadata": {},
   "outputs": [
    {
     "name": "stdout",
     "output_type": "stream",
     "text": [
      "Top Risk Factors Impacting RiskScore:\n",
      "GenHlth                 0.671176\n",
      "DiffWalk                0.585545\n",
      "PhysHlth                0.550730\n",
      "HighBP                  0.494741\n",
      "HeartDiseaseorAttack    0.430825\n",
      "dtype: float64\n",
      "\n",
      "Top Protective Factors Impacting RiskScore:\n",
      "Income         -0.507370\n",
      "Education      -0.442475\n",
      "PhysActivity   -0.424512\n",
      "Veggies        -0.314571\n",
      "Fruits         -0.276144\n",
      "dtype: float64\n"
     ]
    }
   ],
   "source": [
    "# Correlation of each factor with overall RiskScore\n",
    "risk_corr = df[risk_factors].corrwith(df['RiskScore']).sort_values(ascending=False)\n",
    "protect_corr = df[protective_factors].corrwith(df['RiskScore']).sort_values()\n",
    "\n",
    "# Display top contributors\n",
    "print(\"Top Risk Factors Impacting RiskScore:\")\n",
    "print(risk_corr.head(5))\n",
    "print(\"\\nTop Protective Factors Impacting RiskScore:\")\n",
    "print(protect_corr.head(5))\n"
   ]
  },
  {
   "cell_type": "markdown",
   "id": "ad4cbfa9",
   "metadata": {},
   "source": [
    "# Key Insights (Markdown Cell)\n",
    "\n",
    "1. Major risk factors: `AnyHealthcare`, `Sex`, `NoDocbcCost`, `Smoker`, `CholCheck`, `MentHlth`, etc.  \n",
    "2. Protective factors: `Income`, `Education`, `PhysActivity`, `Veggies`, `Fruits`.  \n",
    "3. Top 10% high-risk individuals are highlighted by RiskScore.  \n",
    "4. Income groups show differences in diabetes risk, though some factors like lifestyle changes (e.g., physical activity, diet) are actionable to reduce personal risk.  \n"
   ]
  }
 ],
 "metadata": {
  "kernelspec": {
   "display_name": "Python 3",
   "language": "python",
   "name": "python3"
  },
  "language_info": {
   "codemirror_mode": {
    "name": "ipython",
    "version": 3
   },
   "file_extension": ".py",
   "mimetype": "text/x-python",
   "name": "python",
   "nbconvert_exporter": "python",
   "pygments_lexer": "ipython3",
   "version": "3.13.2"
  }
 },
 "nbformat": 4,
 "nbformat_minor": 5
}
